{
 "cells": [
  {
   "attachments": {},
   "cell_type": "markdown",
   "metadata": {
    "colab_type": "text",
    "id": "nBSztV_ob01R"
   },
   "source": [
    "# Visualization of CNN Layers and Filters"
   ]
  },
  {
   "attachments": {},
   "cell_type": "markdown",
   "metadata": {},
   "source": [
    "### FROM https://towardsdatascience.com/visualizing-convolution-neural-networks-using-pytorch-3dfa8443e74e"
   ]
  },
  {
   "attachments": {},
   "cell_type": "markdown",
   "metadata": {
    "colab_type": "text",
    "id": "m81kFpzKZjAP"
   },
   "source": [
    "## Outline\n",
    "1. Using torchvision.datasets with a custom folder of images\n",
    "2. Occlusion analysis with pretrained model\n",
    "3. Filter visualisation with pretrained model"
   ]
  },
  {
   "cell_type": "code",
   "execution_count": 1,
   "metadata": {
    "colab": {},
    "colab_type": "code",
    "id": "1x6DI_8rIWdS"
   },
   "outputs": [],
   "source": [
    "import warnings\n",
    "warnings.filterwarnings(\"ignore\")"
   ]
  },
  {
   "cell_type": "code",
   "execution_count": 34,
   "metadata": {
    "colab": {},
    "colab_type": "code",
    "id": "BFT5lgx3b-Fs"
   },
   "outputs": [],
   "source": [
    "import numpy as np\n",
    "import matplotlib.pyplot as plt\n",
    "import seaborn as sns\n",
    "\n",
    "import torch \n",
    "import torch.nn as nn\n",
    "import torchvision\n",
    "#import datasets in torchvision\n",
    "import torchvision.datasets as datasets\n",
    "\n",
    "#import model zoo in torchvision\n",
    "import torchvision.models as models\n",
    "import torchvision.transforms as transforms"
   ]
  },
  {
   "cell_type": "code",
   "execution_count": 10,
   "metadata": {},
   "outputs": [],
   "source": [
    "class NeuralNet(nn.Module):\n",
    "    def __init__(self, input_size, output_size):\n",
    "        super(NeuralNet, self).__init__()\n",
    "        self.input_size = input_size\n",
    "        self.conv1 = nn.Conv2d(3, 40, 5)\n",
    "        self.pool = nn.MaxPool2d(4, 4)\n",
    "        self.drop = nn.Dropout(p=0.5, inplace=False)\n",
    "        self.conv2 = nn.Conv2d(40, 60, 5)\n",
    "        self.conv3 = nn.Conv2d(60, 240, 3)\n",
    "        self.resnet = nn.Linear(240, 240)  # NOT ACTUALLY RESNET\n",
    "        self.fc1 = nn.Linear(240, 120)\n",
    "        self.fc2 = nn.Linear(120, 60)\n",
    "        self.fc3 = nn.Linear(60, 1)\n",
    "    \n",
    "    def forward(self, x):\n",
    "        x = self.pool(F.tanh(self.conv1(x)))\n",
    "        x = self.pool(F.tanh(self.conv2(x)))\n",
    "        x = self.pool(F.relu(self.conv3(x)))\n",
    "        x = torch.flatten(x, 1) # flatten all dimensions except batch\n",
    "        # print(x.shape)\n",
    "        # x = self.drop(x)\n",
    "\n",
    "        # Best result so far\n",
    "        x = F.relu(self.resnet(x))\n",
    "        x = F.relu(self.resnet(x))\n",
    "\n",
    "\n",
    "\n",
    "        # 1 Layer Resnet did perform very well\n",
    "        # x = F.relu(self.resnet(F.relu(self.resnet(x)))) + x\n",
    "        # x = F.relu(self.resnet(F.relu(self.resnet(x)))) + x\n",
    "        # x = self.drop(x)\n",
    "        # x = F.relu(self.resnet(F.relu(self.resnet(x)))) + x\n",
    "        # x = self.drop(x)\n",
    "        # x = F.relu(self.resnet(F.relu(self.resnet(x)))) + x\n",
    "        # x = self.drop(x)\n",
    "        # x = F.relu(self.resnet(F.relu(self.resnet(x)))) + x\n",
    "\n",
    "\n",
    "        x = F.relu(self.fc1(x))\n",
    "        # x = self.drop(x)\n",
    "        x = F.relu(self.fc2(x))\n",
    "        # x = self.drop(x)\n",
    "        x = self.fc3(x)\n",
    "        # no activation and no softmax at the end\n",
    "        return x\n",
    "    \n"
   ]
  },
  {
   "attachments": {},
   "cell_type": "markdown",
   "metadata": {
    "colab_type": "text",
    "id": "m8ibhXZNlbgn"
   },
   "source": [
    "## Load pretrained model"
   ]
  },
  {
   "cell_type": "code",
   "execution_count": 55,
   "metadata": {
    "colab": {},
    "colab_type": "code",
    "id": "vN8T1NVzdbO7"
   },
   "outputs": [
    {
     "data": {
      "text/plain": [
       "<All keys matched successfully>"
      ]
     },
     "execution_count": 55,
     "metadata": {},
     "output_type": "execute_result"
    }
   ],
   "source": [
    "#for visualization we will use vgg16 pretrained on imagenet data\n",
    "\n",
    "device = torch.device('cpu')\n",
    "model = NeuralNet(57600, 1)\n",
    "model.load_state_dict(torch.load('/home/jiawenb/CS229/cs229-project/CNN_MLP_trained_model.pt', map_location=device))"
   ]
  },
  {
   "cell_type": "code",
   "execution_count": 56,
   "metadata": {
    "colab": {},
    "colab_type": "code",
    "id": "IbWGtzk5ejXf",
    "scrolled": false
   },
   "outputs": [
    {
     "data": {
      "text/plain": [
       "NeuralNet(\n",
       "  (conv1): Conv2d(3, 40, kernel_size=(5, 5), stride=(1, 1))\n",
       "  (pool): MaxPool2d(kernel_size=4, stride=4, padding=0, dilation=1, ceil_mode=False)\n",
       "  (drop): Dropout(p=0.5, inplace=False)\n",
       "  (conv2): Conv2d(40, 60, kernel_size=(5, 5), stride=(1, 1))\n",
       "  (conv3): Conv2d(60, 240, kernel_size=(3, 3), stride=(1, 1))\n",
       "  (resnet): Linear(in_features=240, out_features=240, bias=True)\n",
       "  (fc1): Linear(in_features=240, out_features=120, bias=True)\n",
       "  (fc2): Linear(in_features=120, out_features=60, bias=True)\n",
       "  (fc3): Linear(in_features=60, out_features=1, bias=True)\n",
       ")"
      ]
     },
     "execution_count": 56,
     "metadata": {},
     "output_type": "execute_result"
    }
   ],
   "source": [
    "model.eval()"
   ]
  },
  {
   "attachments": {},
   "cell_type": "markdown",
   "metadata": {
    "colab_type": "text",
    "id": "FxyVJKDKljdi"
   },
   "source": [
    "## Visualise image"
   ]
  },
  {
   "cell_type": "code",
   "execution_count": 57,
   "metadata": {
    "colab": {},
    "colab_type": "code",
    "id": "BmvCfwbsfVCR"
   },
   "outputs": [],
   "source": [
    "def imshow(img, title):\n",
    "  \n",
    "  \"\"\"Custom function to display the image using matplotlib\"\"\"\n",
    "  \n",
    "  #define std correction to be made\n",
    "  std_correction = np.asarray([0.229, 0.224, 0.225]).reshape(3, 1, 1)\n",
    "  \n",
    "  #define mean correction to be made\n",
    "  mean_correction = np.asarray([0.485, 0.456, 0.406]).reshape(3, 1, 1)\n",
    "  \n",
    "  #convert the tensor img to numpy img and de normalize \n",
    "  npimg = np.multiply(img.numpy(), std_correction) + mean_correction\n",
    "  \n",
    "  #plot the numpy image\n",
    "  plt.figure(figsize = (batch_size * 4, 4))\n",
    "  plt.axis(\"off\")\n",
    "  plt.imshow(np.transpose(npimg, (1, 2, 0)))\n",
    "  plt.title(title)\n",
    "  plt.show()"
   ]
  },
  {
   "cell_type": "code",
   "execution_count": 58,
   "metadata": {
    "colab": {},
    "colab_type": "code",
    "id": "ETr82Xbshof_"
   },
   "outputs": [],
   "source": [
    "#custom function to fetch images from dataloader\n",
    "\n",
    "def show_batch_images(dataloader):\n",
    "  images,_ = next(iter(dataloader))\n",
    "  \n",
    "  #run the model on the images\n",
    "  outputs = model(images)\n",
    "  \n",
    "  #get the maximum class \n",
    "  _, pred = torch.max(outputs.data, 1)\n",
    "  \n",
    "  #make grid\n",
    "  img = torchvision.utils.make_grid(images)\n",
    "  \n",
    "  #call the function\n",
    "  imshow(img, title=[classes[x.item()] for x in pred])\n",
    "  \n",
    "  return images, pred"
   ]
  },
  {
   "attachments": {},
   "cell_type": "markdown",
   "metadata": {
    "colab_type": "text",
    "id": "nQN3po0AtrWr"
   },
   "source": [
    "## Filter visualisation"
   ]
  },
  {
   "cell_type": "code",
   "execution_count": 59,
   "metadata": {
    "colab": {},
    "colab_type": "code",
    "id": "WT_VW8v8CR7V"
   },
   "outputs": [],
   "source": [
    "def plot_filters_single_channel_big(t):\n",
    "    \n",
    "    #setting the rows and columns\n",
    "    nrows = t.shape[0]*t.shape[2]\n",
    "    ncols = t.shape[1]*t.shape[3]\n",
    "    \n",
    "    \n",
    "    npimg = np.array(t.numpy(), np.float32)\n",
    "    npimg = npimg.transpose((0, 2, 1, 3))\n",
    "    npimg = npimg.ravel().reshape(nrows, ncols)\n",
    "    \n",
    "    npimg = npimg.T\n",
    "    \n",
    "    fig, ax = plt.subplots(figsize=(ncols/10, nrows/200))    \n",
    "    imgplot = sns.heatmap(npimg, xticklabels=False, yticklabels=False, cmap='gray', ax=ax, cbar=False)"
   ]
  },
  {
   "cell_type": "code",
   "execution_count": 60,
   "metadata": {
    "colab": {},
    "colab_type": "code",
    "id": "6BYCjgBYwyAQ"
   },
   "outputs": [],
   "source": [
    "def plot_filters_single_channel(t):\n",
    "    \n",
    "    #kernels depth * number of kernels\n",
    "    nplots = t.shape[0]*t.shape[1]\n",
    "    ncols = 12\n",
    "    \n",
    "    nrows = 1 + nplots//ncols\n",
    "    #convert tensor to numpy image\n",
    "    npimg = np.array(t.numpy(), np.float32)\n",
    "    \n",
    "    count = 0\n",
    "    fig = plt.figure(figsize=(ncols, nrows))\n",
    "    \n",
    "    #looping through all the kernels in each channel\n",
    "    for i in range(t.shape[0]):\n",
    "        for j in range(t.shape[1]):\n",
    "            count += 1\n",
    "            ax1 = fig.add_subplot(nrows, ncols, count)\n",
    "            npimg = np.array(t[i, j].numpy(), np.float32)\n",
    "            npimg = (npimg - np.mean(npimg)) / np.std(npimg)\n",
    "            npimg = np.minimum(1, np.maximum(0, (npimg + 0.5)))\n",
    "            ax1.imshow(npimg)\n",
    "            ax1.set_title(str(i) + ',' + str(j))\n",
    "            ax1.axis('off')\n",
    "            ax1.set_xticklabels([])\n",
    "            ax1.set_yticklabels([])\n",
    "    plt.savefig('myimage.png', dpi=100)  \n",
    "   \n",
    "    plt.tight_layout()\n",
    "    plt.show()"
   ]
  },
  {
   "cell_type": "code",
   "execution_count": 61,
   "metadata": {
    "colab": {},
    "colab_type": "code",
    "id": "qv-nJbDFuNuN"
   },
   "outputs": [],
   "source": [
    "def plot_filters_multi_channel(t):\n",
    "    \n",
    "    #get the number of kernals\n",
    "    num_kernels = t.shape[0]    \n",
    "    \n",
    "    #define number of columns for subplots\n",
    "    num_cols = 12\n",
    "    #rows = num of kernels\n",
    "    num_rows = num_kernels\n",
    "    \n",
    "    #set the figure size\n",
    "    fig = plt.figure(figsize=(num_cols,num_rows))\n",
    "    \n",
    "    #looping through all the kernels\n",
    "    for i in range(t.shape[0]):\n",
    "        ax1 = fig.add_subplot(num_rows,num_cols,i+1)\n",
    "        \n",
    "        #for each kernel, we convert the tensor to numpy \n",
    "        npimg = np.array(t[i].numpy(), np.float32)\n",
    "        #standardize the numpy image\n",
    "        npimg = (npimg - np.mean(npimg)) / np.std(npimg)\n",
    "        npimg = np.minimum(1, np.maximum(0, (npimg + 0.5)))\n",
    "        npimg = npimg.transpose((1, 2, 0))\n",
    "        ax1.imshow(npimg)\n",
    "        ax1.axis('off')\n",
    "        ax1.set_title(str(i))\n",
    "        ax1.set_xticklabels([])\n",
    "        ax1.set_yticklabels([])\n",
    "        \n",
    "    plt.savefig('myimage.png', dpi=100)    \n",
    "    plt.tight_layout()\n",
    "    plt.show()"
   ]
  },
  {
   "cell_type": "code",
   "execution_count": 62,
   "metadata": {
    "colab": {},
    "colab_type": "code",
    "id": "cWmfCalUvzbS"
   },
   "outputs": [],
   "source": [
    "def plot_weights(model, layer, single_channel = True, collated = False):\n",
    "  \n",
    "  #extracting the model features at the particular layer number\n",
    "  # layer = model.conv1\n",
    "  \n",
    "  #checking whether the layer is convolution layer or not \n",
    "  if isinstance(layer, nn.Conv2d):\n",
    "    #getting the weight tensor data\n",
    "    weight_tensor = layer.weight.data\n",
    "    \n",
    "    if single_channel:\n",
    "      if collated:\n",
    "        plot_filters_single_channel_big(weight_tensor)\n",
    "      else:\n",
    "        plot_filters_single_channel(weight_tensor)\n",
    "        \n",
    "    else:\n",
    "      if weight_tensor.shape[1] == 3:\n",
    "        plot_filters_multi_channel(weight_tensor)\n",
    "      else:\n",
    "        print(\"Can only plot weights with three channels with single channel = False\")\n",
    "        \n",
    "  else:\n",
    "    print(\"Can only visualize layers which are convolutional\")"
   ]
  },
  {
   "cell_type": "code",
   "execution_count": 63,
   "metadata": {
    "colab": {
     "base_uri": "https://localhost:8080/",
     "height": 451
    },
    "colab_type": "code",
    "executionInfo": {
     "elapsed": 4198,
     "status": "ok",
     "timestamp": 1558634323846,
     "user": {
      "displayName": "Niranjan Kumar",
      "photoUrl": "https://lh6.googleusercontent.com/-jG7xdAyoAHA/AAAAAAAAAAI/AAAAAAAACC0/kLGvK19ZcEE/s64/photo.jpg",
      "userId": "17478295942378541022"
     },
     "user_tz": -330
    },
    "id": "oY9qbCOEP3Mn",
    "outputId": "bebd8e35-0abf-4f10-ecbc-8d9c93ed1618"
   },
   "outputs": [
    {
     "data": {
      "image/png": "[encoded data removed]",
      "text/plain": [
       "<Figure size 1200x1100 with 120 Axes>"
      ]
     },
     "metadata": {},
     "output_type": "display_data"
    }
   ],
   "source": [
    "#visualize weights for the model - first conv layer\n",
    "\n",
    "plot_weights(model, model.conv1, single_channel = True)"
   ]
  },
  {
   "cell_type": "code",
   "execution_count": null,
   "metadata": {
    "colab": {},
    "colab_type": "code",
    "id": "_bD1sDup2sfc"
   },
   "outputs": [],
   "source": []
  },
  {
   "cell_type": "code",
   "execution_count": null,
   "metadata": {},
   "outputs": [],
   "source": []
  }
 ],
 "metadata": {
  "accelerator": "GPU",
  "colab": {
   "collapsed_sections": [],
   "name": "CNNVisualisation.ipynb",
   "provenance": []
  },
  "kernelspec": {
   "display_name": "Python 3",
   "language": "python",
   "name": "python3"
  },
  "language_info": {
   "codemirror_mode": {
    "name": "ipython",
    "version": 3
   },
   "file_extension": ".py",
   "mimetype": "text/x-python",
   "name": "python",
   "nbconvert_exporter": "python",
   "pygments_lexer": "ipython3",
   "version": "3.10.6"
  }
 },
 "nbformat": 4,
 "nbformat_minor": 1
}
